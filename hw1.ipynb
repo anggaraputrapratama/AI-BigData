{
 "cells": [
  {
   "cell_type": "markdown",
   "metadata": {},
   "source": [
    "# Homework no: 1\n",
    "### Name : ANGGARA PUTRA PRATAMA \n",
    "(v) I totally write by myself"
   ]
  },
  {
   "cell_type": "code",
   "execution_count": null,
   "metadata": {},
   "outputs": [],
   "source": [
    "hw = input (\"Homework no: \")\n",
    "name = input (\"Name: \") \n",
    "sid = input(\"Student ID: \")\n",
    "pil = str(input (\"do you do the work yourself? (x) My reference : name and student id. (v) I totally write by myself. x/v?\"))\n",
    "if pil in ['x','X']:\n",
    "    rname = input(\"Reference name:\")\n",
    "    rsid = input(\"Reference Student id:\")\n",
    "    print (\"My Reference: \",rname, rsid)\n",
    "elif pil in ['v','V']:\n",
    "    print (\"I totally write by myself\")\n",
    "else:\n",
    "    print(\"Wrong Input!\")"
   ]
  },
  {
   "cell_type": "markdown",
   "metadata": {},
   "source": [
    "## AI and Big Data\n",
    "\n",
    "**Authors** : ANGGARA PUTRA PRATAMA\n",
    "Github : github.com/anggaraputrapratama\n",
    "### Artificial Intelligence (AI)\n",
    "\n",
    "#### Sejarah Artificial Intelligence (AI) / Kecerdasan Buatan\n",
    "Istilah AI atau kecerdasan buatan diciptakan pada tahun 1956, tetapi hingga saat ini AI menjadi semakin populer berkat peningkatan volume data, algoritme canggih, dan peningkatan daya serta penyimpanan komputasi.\n",
    "\n",
    "Pada tahun 1950-an dimulai riset tentang AI dengan eksplorasi topik seperti penyelesaian masalah dan metode simbolik. Pada tahun 1960-an Departement Pertahanan Amerika Serikat memiliki minat terhadap riset AI ini dan mulai melatih komputer-komputer untuk menirukan penalaran dasar manusia. Defense Advanced Research Projects Agency (DARPA) menyelesaikan proyek pemetaan jalan pada tahun 1970-an. DARPA menghasilkan asisten pribadi cerdas pada tahun 2003, jauh sebelum Siri, Alexa atau Cortana diberi nama.\n",
    "\n",
    "AI dari tahun ke tahun hingga masa kini : \n",
    "- Tahun 1950-an hingga 1970an (Neural Networks) : Pada rentang tahun ini dilakukan bagaimana mesin dapat berfikir,\n",
    "- Tahun 1980-an hingga 2010an (Machine Learning) : Pada rentang tahun ini pembelajaran mesin atau AI semakin Populer\n",
    "- Tahun 2010-an hingga saat ini (Deep Learning) : Terobosan Deep Learning semakin mempopulerkan AI\n",
    "\n",
    "#### AI di masa kini\n",
    "- AI dan Internet Of Things\n",
    "- Integrasi AI dengan Program Analisa\n",
    "\n",
    "#### Pengaplikasian penggunaan AI \n",
    "Penggunaan dan pengaplikasian AI mencakup : \n",
    "- Layanan Kesehatan\n",
    "- Manufaktur\n",
    "- Retail \n",
    "- Perbankan\n",
    "\n",
    "### Big Data\n",
    "\n",
    "#### Sejarah Big Data\n",
    "Istilah Big Data mengacu pada data yang sangat besar, cepat atau kompleks sehingga sulit atau tidak mungkin untuk diproses menggunakan metode tradisional. Tetapi Big Data meraih momentum ketika seorang analisis Industri bernama Doug Laney mengartikulasikan definisi Big Data dalam istilah mainstream-saat ini menjadi 3 V yaitu :\n",
    "\n",
    "- Volume: Perusahaan mengumpulkan data dari berbagai sumber, termasuk transaksi bisnis, Perankat Pintar (IoT), Peralatan industri, Video, Sosial Median dan banyak lagi. Di masa lampau menyimpan data menjadi sebuah masalah, namun sekarang penyimpanan data lebih murah seperti platforms *data lakes* dan *Hadoop* telah meringankan beban.\n",
    "\n",
    "- Velocity: Dengan pertumbuhan IoT, Data mengalir ke data center dengan kecepatan yang belum pernah terjadi seperti sebelumnya dan harus segera ditangani tepat wakut. RFID, sensor, dan smart meter mendorong akan kebutuhan untuk segera tertangani dalam waktu bersamaan\n",
    "\n",
    "Varietas : Data hadir dalam semua jenis format - dari terstruktur, data numerik dalam database tradisional hingga dokumen teks, email, video, audio, data ticker saham, dan transaksi keuangan yang tidak terstruktur.\n",
    "\n",
    "\n",
    "Variety: Data comes in all types of formats – from structured, numeric data in traditional databases to unstructured text documents, emails, videos, audios, stock ticker data and financial transactions.\n",
    "- Variety: Data datang dalam berbagai jenis format - Terstruktur, data numerik dalam database tradisional hingga dokumen teks, email, video, audio, data saham dan transaksi keuangan yang tidak terstruktur\n",
    "\n",
    "Reference Source: \n",
    "[1] Artificial Intelligence: https://www.sas.com/en_us/insights/analytics/what-is-artificial-intelligence.html#howitworks\n",
    "[2] Big Data: https://www.sas.com/en_us/insights/big-data/what-is-big-data.html\n",
    "\n",
    "\n"
   ]
  },
  {
   "cell_type": "code",
   "execution_count": null,
   "metadata": {},
   "outputs": [],
   "source": []
  }
 ],
 "metadata": {
  "kernelspec": {
   "display_name": "Python 3",
   "language": "python",
   "name": "python3"
  },
  "language_info": {
   "codemirror_mode": {
    "name": "ipython",
    "version": 3
   },
   "file_extension": ".py",
   "mimetype": "text/x-python",
   "name": "python",
   "nbconvert_exporter": "python",
   "pygments_lexer": "ipython3",
   "version": "3.8.5"
  }
 },
 "nbformat": 4,
 "nbformat_minor": 4
}
