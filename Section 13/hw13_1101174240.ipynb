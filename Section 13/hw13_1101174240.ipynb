{
  "nbformat": 4,
  "nbformat_minor": 5,
  "metadata": {
    "kernelspec": {
      "display_name": "Python 3",
      "language": "python",
      "name": "python3"
    },
    "language_info": {
      "codemirror_mode": {
        "name": "ipython",
        "version": 3
      },
      "file_extension": ".py",
      "mimetype": "text/x-python",
      "name": "python",
      "nbconvert_exporter": "python",
      "pygments_lexer": "ipython3",
      "version": "3.8.10"
    },
    "colab": {
      "name": "hw13_1101174240.ipynb",
      "provenance": []
    },
    "accelerator": "GPU"
  },
  "cells": [
    {
      "cell_type": "markdown",
      "metadata": {
        "id": "23e19d56"
      },
      "source": [
        "# Homework No. 13\n",
        "\n",
        "### Anggara Putra Pratama - 1101174240\n",
        "\n",
        "Saya menggunakan google collab pada homework 13 karena laptop saya menggunakan cpu, tidak bisa menggunakan GPU karena tidak dapat melakukan update driver nvidia terbaru.\n"
      ],
      "id": "23e19d56"
    },
    {
      "cell_type": "markdown",
      "metadata": {
        "id": "df762c6e"
      },
      "source": [
        "# 1. Install Pytorch and Check"
      ],
      "id": "df762c6e"
    },
    {
      "cell_type": "code",
      "metadata": {
        "colab": {
          "base_uri": "https://localhost:8080/"
        },
        "id": "e009b446",
        "outputId": "85f60482-87c7-43b2-ec9e-9232f1a20d07"
      },
      "source": [
        "import torch\n",
        "print(torch.__version__)"
      ],
      "id": "e009b446",
      "execution_count": 1,
      "outputs": [
        {
          "output_type": "stream",
          "text": [
            "1.8.1+cu101\n"
          ],
          "name": "stdout"
        }
      ]
    },
    {
      "cell_type": "code",
      "metadata": {
        "colab": {
          "base_uri": "https://localhost:8080/"
        },
        "id": "ad1ad21c",
        "outputId": "1267947d-423d-4dc0-c2a5-440512463ce1"
      },
      "source": [
        "torch.cuda.is_available()"
      ],
      "id": "ad1ad21c",
      "execution_count": 2,
      "outputs": [
        {
          "output_type": "execute_result",
          "data": {
            "text/plain": [
              "True"
            ]
          },
          "metadata": {
            "tags": []
          },
          "execution_count": 2
        }
      ]
    },
    {
      "cell_type": "code",
      "metadata": {
        "colab": {
          "base_uri": "https://localhost:8080/"
        },
        "id": "3220e827",
        "outputId": "cc35da28-ce90-4653-9926-fae4ca9c26bd"
      },
      "source": [
        "x = torch.rand(5,3)\n",
        "print(x)"
      ],
      "id": "3220e827",
      "execution_count": 3,
      "outputs": [
        {
          "output_type": "stream",
          "text": [
            "tensor([[0.7045, 0.0221, 0.8733],\n",
            "        [0.3901, 0.0032, 0.3136],\n",
            "        [0.6316, 0.3759, 0.8552],\n",
            "        [0.8697, 0.6433, 0.3948],\n",
            "        [0.5638, 0.5183, 0.4904]])\n"
          ],
          "name": "stdout"
        }
      ]
    },
    {
      "cell_type": "markdown",
      "metadata": {
        "id": "7433c6f1"
      },
      "source": [
        "# 2. Give the explanation about pyTorch"
      ],
      "id": "7433c6f1"
    },
    {
      "cell_type": "markdown",
      "metadata": {
        "id": "80b4f7ef"
      },
      "source": [
        "PyTorch is an open source machine learning library for Python programs that facilitates building deep learning projects, such as natural language processing and computer vision. In simple sentence, you can think about Numpy, but with strong GPU acceleration. Better yet, PyTorch supports dynamic computation graphs that allow you to change how the network behaves on the fly, unlike static graphs that are used in frameworks such as Tensorflow."
      ],
      "id": "80b4f7ef"
    }
  ]
}