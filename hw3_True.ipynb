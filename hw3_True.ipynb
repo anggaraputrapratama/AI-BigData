{
 "cells": [
  {
   "cell_type": "code",
   "execution_count": 6,
   "metadata": {},
   "outputs": [
    {
     "data": {
      "text/plain": [
       "tic\n",
       "AIR      1852.388833\n",
       "ADCT     1579.700000\n",
       "IWKS       21.401000\n",
       "AAL     27556.166667\n",
       "CECE      132.384667\n",
       "Name: at, dtype: float64"
      ]
     },
     "execution_count": 6,
     "metadata": {},
     "output_type": "execute_result"
    }
   ],
   "source": [
    "#import packages\n",
    "import pandas as pd\n",
    "\n",
    "#Read Dataset\n",
    "data = pd.read_table('hw3-LB_TA.txt', delim_whitespace=True)\n",
    "\n",
    "#Grouping Dataset\n",
    "data1 = data.groupby(['tic'], sort=False)\n",
    "\n",
    "#Average Calculations\n",
    "calculation = data1.mean()['at']\n",
    "\n",
    "#remove \"tic\" contains one record without \"at\" values\n",
    "data2 = calculation[calculation !=0].dropna()\n",
    "\n",
    "#Rename the header\n",
    "header = [\"avg_at\"]\n",
    "\n",
    "#convert in to CSV file\n",
    "data2.to_csv('output1.csv', header=header)\n",
    "\n",
    "#show samples of output\n",
    "data2.head()"
   ]
  },
  {
   "cell_type": "code",
   "execution_count": null,
   "metadata": {},
   "outputs": [],
   "source": []
  }
 ],
 "metadata": {
  "kernelspec": {
   "display_name": "Python 3",
   "language": "python",
   "name": "python3"
  },
  "language_info": {
   "codemirror_mode": {
    "name": "ipython",
    "version": 3
   },
   "file_extension": ".py",
   "mimetype": "text/x-python",
   "name": "python",
   "nbconvert_exporter": "python",
   "pygments_lexer": "ipython3",
   "version": "3.8.5"
  }
 },
 "nbformat": 4,
 "nbformat_minor": 4
}
