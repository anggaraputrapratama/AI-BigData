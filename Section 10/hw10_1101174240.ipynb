{
 "cells": [
  {
   "cell_type": "markdown",
   "id": "8a8f0781",
   "metadata": {},
   "source": [
    "# Homework 10\n",
    "## Anggara Putra Pratama - 1101174240\n",
    "\n",
    "## Classifying newswires: a multi - class classification"
   ]
  },
  {
   "cell_type": "markdown",
   "id": "830eec46",
   "metadata": {},
   "source": [
    "Please continue the experiment process of \"classifying newswires\" at https://github.com/fchollet/deep-learning-with-python-notebooks/blob/master/3.6-classifying-newswires.ipynb, the current validation accuracy on the reference book is about 81%, try to achieve the validation accuracy above 90%. You can try all possible ways to achieve a validation accuracy of more than 90%."
   ]
  },
  {
   "cell_type": "code",
   "execution_count": 1,
   "id": "d97f2bce",
   "metadata": {},
   "outputs": [
    {
     "data": {
      "text/plain": [
       "'2.4.3'"
      ]
     },
     "execution_count": 1,
     "metadata": {},
     "output_type": "execute_result"
    }
   ],
   "source": [
    "import keras\n",
    "keras.__version__"
   ]
  },
  {
   "cell_type": "markdown",
   "id": "6ef79046",
   "metadata": {},
   "source": [
    "## The Reuters dataset"
   ]
  },
  {
   "cell_type": "code",
   "execution_count": 2,
   "id": "d2e5ce0d",
   "metadata": {},
   "outputs": [
    {
     "name": "stderr",
     "output_type": "stream",
     "text": [
      "D:\\anaconda3\\lib\\site-packages\\tensorflow\\python\\keras\\datasets\\reuters.py:148: VisibleDeprecationWarning: Creating an ndarray from ragged nested sequences (which is a list-or-tuple of lists-or-tuples-or ndarrays with different lengths or shapes) is deprecated. If you meant to do this, you must specify 'dtype=object' when creating the ndarray\n",
      "  x_train, y_train = np.array(xs[:idx]), np.array(labels[:idx])\n",
      "D:\\anaconda3\\lib\\site-packages\\tensorflow\\python\\keras\\datasets\\reuters.py:149: VisibleDeprecationWarning: Creating an ndarray from ragged nested sequences (which is a list-or-tuple of lists-or-tuples-or ndarrays with different lengths or shapes) is deprecated. If you meant to do this, you must specify 'dtype=object' when creating the ndarray\n",
      "  x_test, y_test = np.array(xs[idx:]), np.array(labels[idx:])\n"
     ]
    }
   ],
   "source": [
    "from keras.datasets import reuters\n",
    "\n",
    "(train_data, train_labels), (test_data, test_labels) = reuters.load_data(num_words=10000)"
   ]
  },
  {
   "cell_type": "code",
   "execution_count": 3,
   "id": "eed70f6b",
   "metadata": {},
   "outputs": [
    {
     "data": {
      "text/plain": [
       "8982"
      ]
     },
     "execution_count": 3,
     "metadata": {},
     "output_type": "execute_result"
    }
   ],
   "source": [
    "len(train_data)"
   ]
  },
  {
   "cell_type": "code",
   "execution_count": 4,
   "id": "0396c8f1",
   "metadata": {},
   "outputs": [
    {
     "data": {
      "text/plain": [
       "2246"
      ]
     },
     "execution_count": 4,
     "metadata": {},
     "output_type": "execute_result"
    }
   ],
   "source": [
    "len(test_data)"
   ]
  },
  {
   "cell_type": "code",
   "execution_count": 5,
   "id": "289ceac8",
   "metadata": {},
   "outputs": [
    {
     "data": {
      "text/plain": [
       "((8982,), 8982, (2246,), 2246)"
      ]
     },
     "execution_count": 5,
     "metadata": {},
     "output_type": "execute_result"
    }
   ],
   "source": [
    "train_data.shape,len(train_labels), test_data.shape, len(test_labels)"
   ]
  },
  {
   "cell_type": "code",
   "execution_count": 6,
   "id": "2cce797a",
   "metadata": {},
   "outputs": [
    {
     "data": {
      "text/plain": [
       "[1,\n",
       " 245,\n",
       " 273,\n",
       " 207,\n",
       " 156,\n",
       " 53,\n",
       " 74,\n",
       " 160,\n",
       " 26,\n",
       " 14,\n",
       " 46,\n",
       " 296,\n",
       " 26,\n",
       " 39,\n",
       " 74,\n",
       " 2979,\n",
       " 3554,\n",
       " 14,\n",
       " 46,\n",
       " 4689,\n",
       " 4329,\n",
       " 86,\n",
       " 61,\n",
       " 3499,\n",
       " 4795,\n",
       " 14,\n",
       " 61,\n",
       " 451,\n",
       " 4329,\n",
       " 17,\n",
       " 12]"
      ]
     },
     "execution_count": 6,
     "metadata": {},
     "output_type": "execute_result"
    }
   ],
   "source": [
    "train_data[10]"
   ]
  },
  {
   "cell_type": "code",
   "execution_count": 7,
   "id": "1becc452",
   "metadata": {},
   "outputs": [
    {
     "data": {
      "text/plain": [
       "9999"
      ]
     },
     "execution_count": 7,
     "metadata": {},
     "output_type": "execute_result"
    }
   ],
   "source": [
    "max([max(sequence) for sequence in train_data])"
   ]
  },
  {
   "cell_type": "code",
   "execution_count": 8,
   "id": "7de767d1",
   "metadata": {},
   "outputs": [],
   "source": [
    "word_index = reuters.get_word_index()\n",
    "num_to_word_map = {num:word for word, num in word_index.items()}"
   ]
  },
  {
   "cell_type": "code",
   "execution_count": 9,
   "id": "7e2fde57",
   "metadata": {},
   "outputs": [
    {
     "data": {
      "text/plain": [
       "\"? the u s agriculture department estimated canada's 1986 87 wheat crop at 31 85 mln tonnes vs 31 85 mln tonnes last month it estimated 1985 86 output at 24 25 mln tonnes vs 24 25 mln last month canadian 1986 87 coarse grain production is projected at 27 62 mln tonnes vs 27 62 mln tonnes last month production in 1985 86 is estimated at 24 95 mln tonnes vs 24 95 mln last month canadian wheat exports in 1986 87 are forecast at 19 00 mln tonnes vs 18 00 mln tonnes last month exports in 1985 86 are estimated at 17 71 mln tonnes vs 17 72 mln last month reuter 3\""
      ]
     },
     "execution_count": 9,
     "metadata": {},
     "output_type": "execute_result"
    }
   ],
   "source": [
    "decode_review = ' '.join([num_to_word_map.get(i-3,'?') for i in train_data[5]])\n",
    "decode_review"
   ]
  },
  {
   "cell_type": "code",
   "execution_count": 10,
   "id": "c2953495",
   "metadata": {},
   "outputs": [
    {
     "data": {
      "text/plain": [
       "4"
      ]
     },
     "execution_count": 10,
     "metadata": {},
     "output_type": "execute_result"
    }
   ],
   "source": [
    "train_labels[5]"
   ]
  },
  {
   "cell_type": "code",
   "execution_count": 11,
   "id": "bb107d56",
   "metadata": {},
   "outputs": [
    {
     "data": {
      "text/plain": [
       "45"
      ]
     },
     "execution_count": 11,
     "metadata": {},
     "output_type": "execute_result"
    }
   ],
   "source": [
    "# 46 class labels\n",
    "max(train_labels)"
   ]
  },
  {
   "cell_type": "code",
   "execution_count": 12,
   "id": "27dd3c35",
   "metadata": {},
   "outputs": [],
   "source": [
    "import seaborn as sns\n",
    "import matplotlib.pyplot as plt\n",
    "%matplotlib inline"
   ]
  },
  {
   "cell_type": "code",
   "execution_count": 13,
   "id": "197eb1a1",
   "metadata": {},
   "outputs": [
    {
     "data": {
      "text/plain": [
       "dict_keys([3, 4, 16, 19, 8, 21, 11, 1, 13, 20, 18, 25, 35, 9, 38, 10, 28, 2, 6, 12, 7, 30, 34, 15, 14, 32, 41, 40, 45, 23, 42, 26, 24, 37, 27, 31, 39, 0, 22, 33, 36, 17, 43, 29, 44, 5])"
      ]
     },
     "execution_count": 13,
     "metadata": {},
     "output_type": "execute_result"
    }
   ],
   "source": [
    "from collections import Counter\n",
    "dict(Counter(train_labels)).keys()"
   ]
  },
  {
   "cell_type": "markdown",
   "id": "32cb6cc0",
   "metadata": {},
   "source": [
    "# Preparing the data for neural network\n"
   ]
  },
  {
   "cell_type": "code",
   "execution_count": 14,
   "id": "fff314e5",
   "metadata": {},
   "outputs": [],
   "source": [
    "import numpy as np\n",
    "def vectorize_sequence(sequence, dimensions=10000):\n",
    "    results = np.zeros((len(sequence), dimensions))\n",
    "    for index,value in enumerate(sequence):\n",
    "        results[index, value] = 1\n",
    "    return results\n",
    "x_train = vectorize_sequence(train_data)\n",
    "x_test = vectorize_sequence(test_data)"
   ]
  },
  {
   "cell_type": "code",
   "execution_count": 15,
   "id": "4410c971",
   "metadata": {},
   "outputs": [],
   "source": [
    "def to_one_hot(labels, dimension=46):\n",
    "    results = np.zeros((len(labels), dimension))\n",
    "    for i, label in enumerate(labels):\n",
    "        results[i, label] = 1.\n",
    "    return results\n",
    "\n",
    "one_hot_train_labels = to_one_hot(train_labels)\n",
    "one_hot_test_labels = to_one_hot(test_labels)"
   ]
  },
  {
   "cell_type": "markdown",
   "id": "2814f69b",
   "metadata": {},
   "source": [
    "## Building our network\n"
   ]
  },
  {
   "cell_type": "code",
   "execution_count": 16,
   "id": "7be4fcf7",
   "metadata": {},
   "outputs": [],
   "source": [
    "from keras import layers\n",
    "from keras import models\n",
    "model = models.Sequential()\n",
    "model.add(layers.Dense(64, activation='relu', input_shape=(10000,)))\n",
    "model.add(layers.Dense(64, activation='relu'))\n",
    "model.add(layers.Dense(46, activation='softmax'))"
   ]
  },
  {
   "cell_type": "code",
   "execution_count": 17,
   "id": "ad5ca7dd",
   "metadata": {},
   "outputs": [],
   "source": [
    "# compile the model\n",
    "model.compile(optimizer='rmsprop', loss='categorical_crossentropy', metrics=['accuracy'])"
   ]
  },
  {
   "cell_type": "markdown",
   "id": "7e8adc42",
   "metadata": {},
   "source": [
    "## Validating our approach\n"
   ]
  },
  {
   "cell_type": "code",
   "execution_count": 18,
   "id": "94254809",
   "metadata": {},
   "outputs": [],
   "source": [
    "x_val = x_train[:1000]\n",
    "partial_x_train = x_train[1000:]\n",
    "\n",
    "y_val = one_hot_train_labels[:1000]\n",
    "partial_y_val = one_hot_train_labels[1000:]"
   ]
  },
  {
   "cell_type": "code",
   "execution_count": 19,
   "id": "c4861ddd",
   "metadata": {},
   "outputs": [
    {
     "name": "stdout",
     "output_type": "stream",
     "text": [
      "Epoch 1/20\n",
      "16/16 [==============================] - 5s 224ms/step - loss: 3.0341 - accuracy: 0.4085 - val_loss: 1.6706 - val_accuracy: 0.6510\n",
      "Epoch 2/20\n",
      "16/16 [==============================] - 1s 60ms/step - loss: 1.4648 - accuracy: 0.7029 - val_loss: 1.3197 - val_accuracy: 0.7070\n",
      "Epoch 3/20\n",
      "16/16 [==============================] - 1s 73ms/step - loss: 1.0863 - accuracy: 0.7719 - val_loss: 1.1344 - val_accuracy: 0.7650\n",
      "Epoch 4/20\n",
      "16/16 [==============================] - 1s 77ms/step - loss: 0.8377 - accuracy: 0.8240 - val_loss: 1.0437 - val_accuracy: 0.7770\n",
      "Epoch 5/20\n",
      "16/16 [==============================] - 1s 61ms/step - loss: 0.6670 - accuracy: 0.8587 - val_loss: 0.9913 - val_accuracy: 0.7960\n",
      "Epoch 6/20\n",
      "16/16 [==============================] - 1s 67ms/step - loss: 0.5285 - accuracy: 0.8913 - val_loss: 0.9593 - val_accuracy: 0.8060\n",
      "Epoch 7/20\n",
      "16/16 [==============================] - 1s 75ms/step - loss: 0.4289 - accuracy: 0.9078 - val_loss: 0.9243 - val_accuracy: 0.8170\n",
      "Epoch 8/20\n",
      "16/16 [==============================] - 1s 73ms/step - loss: 0.3334 - accuracy: 0.9288 - val_loss: 0.9246 - val_accuracy: 0.8100\n",
      "Epoch 9/20\n",
      "16/16 [==============================] - 1s 67ms/step - loss: 0.2791 - accuracy: 0.9415 - val_loss: 0.9254 - val_accuracy: 0.8120\n",
      "Epoch 10/20\n",
      "16/16 [==============================] - 1s 60ms/step - loss: 0.2314 - accuracy: 0.9467 - val_loss: 0.9291 - val_accuracy: 0.8180\n",
      "Epoch 11/20\n",
      "16/16 [==============================] - 1s 62ms/step - loss: 0.2020 - accuracy: 0.9550 - val_loss: 0.9482 - val_accuracy: 0.8100\n",
      "Epoch 12/20\n",
      "16/16 [==============================] - 1s 62ms/step - loss: 0.1709 - accuracy: 0.9561 - val_loss: 1.0137 - val_accuracy: 0.8040\n",
      "Epoch 13/20\n",
      "16/16 [==============================] - 1s 63ms/step - loss: 0.1576 - accuracy: 0.9592 - val_loss: 0.9664 - val_accuracy: 0.8170\n",
      "Epoch 14/20\n",
      "16/16 [==============================] - 1s 64ms/step - loss: 0.1379 - accuracy: 0.9619 - val_loss: 1.0546 - val_accuracy: 0.7990\n",
      "Epoch 15/20\n",
      "16/16 [==============================] - 1s 56ms/step - loss: 0.1326 - accuracy: 0.9583 - val_loss: 1.0133 - val_accuracy: 0.8130\n",
      "Epoch 16/20\n",
      "16/16 [==============================] - 1s 62ms/step - loss: 0.1202 - accuracy: 0.9610 - val_loss: 1.0420 - val_accuracy: 0.8120\n",
      "Epoch 17/20\n",
      "16/16 [==============================] - 1s 64ms/step - loss: 0.1128 - accuracy: 0.9612 - val_loss: 1.0842 - val_accuracy: 0.8010\n",
      "Epoch 18/20\n",
      "16/16 [==============================] - 1s 67ms/step - loss: 0.1046 - accuracy: 0.9652 - val_loss: 1.0847 - val_accuracy: 0.8040\n",
      "Epoch 19/20\n",
      "16/16 [==============================] - 1s 56ms/step - loss: 0.0987 - accuracy: 0.9633 - val_loss: 1.1083 - val_accuracy: 0.7940\n",
      "Epoch 20/20\n",
      "16/16 [==============================] - 1s 55ms/step - loss: 0.0935 - accuracy: 0.9666 - val_loss: 1.1295 - val_accuracy: 0.8060\n"
     ]
    }
   ],
   "source": [
    "history = model.fit(partial_x_train, partial_y_val, epochs=20, batch_size=512, validation_data=(x_val, y_val))"
   ]
  },
  {
   "cell_type": "code",
   "execution_count": 20,
   "id": "8325d293",
   "metadata": {},
   "outputs": [],
   "source": [
    "acc = history.history['accuracy']\n",
    "loss = history.history['loss']\n",
    "val_acc = history.history['val_accuracy']\n",
    "val_loss = history.history['val_loss']"
   ]
  },
  {
   "cell_type": "code",
   "execution_count": 21,
   "id": "c1cb790c",
   "metadata": {},
   "outputs": [
    {
     "data": {
      "image/png": "[encoded data removed]",
      "text/plain": [
       "<Figure size 432x288 with 1 Axes>"
      ]
     },
     "metadata": {
      "needs_background": "light"
     },
     "output_type": "display_data"
    }
   ],
   "source": [
    "plt.plot(range(1,len(loss)+1), loss, 'bo', label='training_loss')\n",
    "plt.plot(range(1, len(val_loss)+1), val_loss, 'g', label='validation_loss')\n",
    "plt.title('Training loss and Validation loss')\n",
    "plt.xlabel('Epoch')\n",
    "plt.ylabel('Loss')\n",
    "plt.legend()\n",
    "plt.show()\n",
    "# what matters for us more is green line."
   ]
  },
  {
   "cell_type": "code",
   "execution_count": 22,
   "id": "f5fa517b",
   "metadata": {
    "scrolled": true
   },
   "outputs": [
    {
     "data": {
      "image/png": "[encoded data removed]",
      "text/plain": [
       "<Figure size 432x288 with 1 Axes>"
      ]
     },
     "metadata": {
      "needs_background": "light"
     },
     "output_type": "display_data"
    }
   ],
   "source": [
    "plt.plot(range(1, len(acc)+1), acc, 'bo', label='training_accuracy')\n",
    "plt.plot(range(1, len(val_acc)+1), val_acc, 'g', label='validation_accuracy')\n",
    "plt.title('Training accuracy and Validation accuracy')\n",
    "plt.xlabel('Epoch')\n",
    "plt.ylabel('Accuracy')\n",
    "plt.legend()\n",
    "plt.show()\n",
    "# what matters for us more is green line."
   ]
  },
  {
   "cell_type": "code",
   "execution_count": 23,
   "id": "5d281db0",
   "metadata": {},
   "outputs": [
    {
     "name": "stdout",
     "output_type": "stream",
     "text": [
      "Epoch 1/9\n",
      "18/18 [==============================] - 3s 109ms/step - loss: 3.1325 - accuracy: 0.3908 - val_loss: 1.6074 - val_accuracy: 0.6810\n",
      "Epoch 2/9\n",
      "18/18 [==============================] - 1s 68ms/step - loss: 1.4879 - accuracy: 0.7016 - val_loss: 1.0675 - val_accuracy: 0.7770\n",
      "Epoch 3/9\n",
      "18/18 [==============================] - 1s 70ms/step - loss: 1.0544 - accuracy: 0.7799 - val_loss: 0.7979 - val_accuracy: 0.8460\n",
      "Epoch 4/9\n",
      "18/18 [==============================] - 1s 57ms/step - loss: 0.7966 - accuracy: 0.8353 - val_loss: 0.6204 - val_accuracy: 0.8760\n",
      "Epoch 5/9\n",
      "18/18 [==============================] - 1s 57ms/step - loss: 0.6320 - accuracy: 0.8710 - val_loss: 0.4908 - val_accuracy: 0.9070\n",
      "Epoch 6/9\n",
      "18/18 [==============================] - 1s 57ms/step - loss: 0.5062 - accuracy: 0.8959 - val_loss: 0.3942 - val_accuracy: 0.9270\n",
      "Epoch 7/9\n",
      "18/18 [==============================] - 1s 67ms/step - loss: 0.4134 - accuracy: 0.9150 - val_loss: 0.3028 - val_accuracy: 0.9460\n",
      "Epoch 8/9\n",
      "18/18 [==============================] - 1s 60ms/step - loss: 0.3387 - accuracy: 0.9310 - val_loss: 0.2660 - val_accuracy: 0.9490\n",
      "Epoch 9/9\n",
      "18/18 [==============================] - 1s 59ms/step - loss: 0.2743 - accuracy: 0.9396 - val_loss: 0.2115 - val_accuracy: 0.9610\n",
      "71/71 [==============================] - 1s 4ms/step - loss: 0.9501 - accuracy: 0.7952\n"
     ]
    }
   ],
   "source": [
    "# Since our model is overfitted after epoch 4.\n",
    "# we'll retrain out for 4 epoch, and will not use validation set this as we don't need validation now.\n",
    "# i.e validation set is used to find the hyperparameters. and we have found one hyperparameter using val.data (epoch=4)\n",
    "model = models.Sequential()\n",
    "model.add(layers.Dense(64, activation='relu', input_shape=(10000,)))\n",
    "model.add(layers.Dense(64, activation='relu'))\n",
    "model.add(layers.Dense(46, activation='softmax'))\n",
    "\n",
    "model.compile(optimizer = 'rmsprop', loss='categorical_crossentropy', metrics=['accuracy'])\n",
    "\n",
    "model.fit(x_train, one_hot_train_labels, epochs=9, batch_size=512,validation_data=(x_val, y_val))\n",
    "\n",
    "results = model.evaluate(x_test, one_hot_test_labels)"
   ]
  },
  {
   "cell_type": "code",
   "execution_count": 24,
   "id": "d0d3c004",
   "metadata": {},
   "outputs": [
    {
     "data": {
      "text/plain": [
       "[0.9501240849494934, 0.7951914668083191]"
      ]
     },
     "execution_count": 24,
     "metadata": {},
     "output_type": "execute_result"
    }
   ],
   "source": [
    "results"
   ]
  },
  {
   "cell_type": "code",
   "execution_count": 25,
   "id": "6926fb7b",
   "metadata": {},
   "outputs": [
    {
     "data": {
      "text/plain": [
       "0.188780053428317"
      ]
     },
     "execution_count": 25,
     "metadata": {},
     "output_type": "execute_result"
    }
   ],
   "source": [
    "import copy\n",
    "test_labels_copy = copy.copy(test_labels)\n",
    "np.random.shuffle(test_labels_copy)\n",
    "hits_array = np.array(test_labels_copy == test_labels)\n",
    "float(np.sum(hits_array)) / len(test_labels)"
   ]
  }
 ],
 "metadata": {
  "kernelspec": {
   "display_name": "Python 3",
   "language": "python",
   "name": "python3"
  },
  "language_info": {
   "codemirror_mode": {
    "name": "ipython",
    "version": 3
   },
   "file_extension": ".py",
   "mimetype": "text/x-python",
   "name": "python",
   "nbconvert_exporter": "python",
   "pygments_lexer": "ipython3",
   "version": "3.8.8"
  }
 },
 "nbformat": 4,
 "nbformat_minor": 5
}
