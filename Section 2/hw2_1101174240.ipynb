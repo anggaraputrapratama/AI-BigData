{
 "cells": [
  {
   "cell_type": "markdown",
   "metadata": {},
   "source": [
    "# Homework no: 2\n",
    "### Name : ANGGARA PUTRA PRATAMA  Student ID: 1101174240 \n",
    "(v) I totally write by myself"
   ]
  },
  {
   "cell_type": "code",
   "execution_count": 6,
   "metadata": {},
   "outputs": [],
   "source": [
    "import sklearn"
   ]
  },
  {
   "cell_type": "code",
   "execution_count": 8,
   "metadata": {},
   "outputs": [
    {
     "name": "stdout",
     "output_type": "stream",
     "text": [
      "My Name is Anggara Putra Pratama with student id 1101174240 I have installed the scikit-learn on my computer with version0.23.2.\n"
     ]
    }
   ],
   "source": [
    "print('My Name is Anggara Putra Pratama with student id 1101174240 I have installed the scikit-learn on my computer with version{}.'.format(sklearn.__version__))"
   ]
  },
  {
   "cell_type": "markdown",
   "metadata": {},
   "source": [
    "Scikit-Learn\n",
    "\n",
    "**Author**: Anggara Putra Pratama <github.com/anggaraputratama>\n",
    "\n",
    "1. What is Scikit-Learn?\n",
    "Scikit-Learn is a library of Python was developed David Cournapeau in 2007. There are 3 features on scikit-learn such as Classification, Regression, Clustering\n",
    "2. What is Classification? Explain with Applications and Algorithms.\n",
    "Classification is one of features of Scikit-learn. Scikit-Learn provides easy access to numerous different classification algorithms. Among these classifiers are:\n",
    "- K-Nearest Neighbors\n",
    "- Support Vector Machines\n",
    "- Decision Tree Classifiers/Random Forests\n",
    "- Naive Bayes\n",
    "- Linear Discriminant Analysis\n",
    "- Logistic Regression\n",
    "3. What is Regression? Explain with Applications and Algorithms. \n",
    "Regression is one of features of scikit-learn which predict a continous valued attribute associated with an object. There are several algorithms for regression such as Linear Regression and Logistic Regression\n",
    "4. What is Clustering? Explain with Applications and Algorithms. \n",
    "  Clustering are automatic grouping of same or similar objects into sets. The applications of clustering are customer segmentation and grouping experiment outcomes. k-Means, spectral clustering, and mean-shift are some of the algorithms used in clustering."
   ]
  },
  {
   "cell_type": "code",
   "execution_count": null,
   "metadata": {},
   "outputs": [],
   "source": []
  }
 ],
 "metadata": {
  "kernelspec": {
   "display_name": "Python 3",
   "language": "python",
   "name": "python3"
  },
  "language_info": {
   "codemirror_mode": {
    "name": "ipython",
    "version": 3
   },
   "file_extension": ".py",
   "mimetype": "text/x-python",
   "name": "python",
   "nbconvert_exporter": "python",
   "pygments_lexer": "ipython3",
   "version": "3.8.5"
  }
 },
 "nbformat": 4,
 "nbformat_minor": 4
}
