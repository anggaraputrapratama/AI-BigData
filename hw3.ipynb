{
 "cells": [
  {
   "cell_type": "markdown",
   "metadata": {},
   "source": [
    "# Homework no: 3\n",
    "### Name : ANGGARA PUTRA PRATAMA  Student ID: 1101174240 \n",
    "\n",
    "github.com/anggaraputrapratama"
   ]
  },
  {
   "cell_type": "code",
   "execution_count": 6,
   "metadata": {},
   "outputs": [],
   "source": [
    "import csv\n",
    "import numpy as np\n",
    "import pandas as pd"
   ]
  },
  {
   "cell_type": "code",
   "execution_count": 7,
   "metadata": {},
   "outputs": [],
   "source": [
    "with open('LB_TA.txt','r') as in_file:\n",
    "    stripped = (line.strip() for line in in_file)\n",
    "    lines = (line.split(\"\\t\") for line in stripped if line)\n",
    "    with open('output.csv','w') as out_file:\n",
    "        writer = csv.writer(out_file)\n",
    "        writer.writerows(lines)\n"
   ]
  },
  {
   "cell_type": "code",
   "execution_count": 12,
   "metadata": {},
   "outputs": [
    {
     "name": "stdout",
     "output_type": "stream",
     "text": [
      "tic\n",
      "0015B     2496.421833\n",
      "0032A    37416.666667\n",
      "0033A    47801.000000\n",
      "0053A      519.300500\n",
      "0065A     2132.350000\n",
      "             ...     \n",
      "ZNT       2479.513500\n",
      "ZQKSQ     1803.654500\n",
      "ZRBA        21.217500\n",
      "ZTS       5953.750000\n",
      "ZZ         959.528000\n",
      "Name: at, Length: 2241, dtype: float64\n"
     ]
    }
   ],
   "source": [
    "file = pd.read_csv (r'output.csv')\n",
    "file = file.replace(0, np.NaN)\n",
    "tic = file.dropna().groupby('tic')['at'].mean()\n",
    "\n",
    "print(tic)"
   ]
  },
  {
   "cell_type": "code",
   "execution_count": null,
   "metadata": {},
   "outputs": [],
   "source": []
  }
 ],
 "metadata": {
  "kernelspec": {
   "display_name": "Python 3",
   "language": "python",
   "name": "python3"
  },
  "language_info": {
   "codemirror_mode": {
    "name": "ipython",
    "version": 3
   },
   "file_extension": ".py",
   "mimetype": "text/x-python",
   "name": "python",
   "nbconvert_exporter": "python",
   "pygments_lexer": "ipython3",
   "version": "3.8.5"
  }
 },
 "nbformat": 4,
 "nbformat_minor": 4
}
